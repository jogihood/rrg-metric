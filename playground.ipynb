{
 "cells": [
  {
   "cell_type": "markdown",
   "metadata": {},
   "source": [
    "## Imports"
   ]
  },
  {
   "cell_type": "code",
   "execution_count": 1,
   "metadata": {},
   "outputs": [],
   "source": [
    "import os\n",
    "os.environ[\"CUDA_VISIBLE_DEVICES\"] = \"0\""
   ]
  },
  {
   "cell_type": "code",
   "execution_count": 2,
   "metadata": {},
   "outputs": [],
   "source": [
    "import pandas as pd\n",
    "import numpy as np"
   ]
  },
  {
   "cell_type": "code",
   "execution_count": 3,
   "metadata": {},
   "outputs": [],
   "source": [
    "import rrg_metric"
   ]
  },
  {
   "cell_type": "markdown",
   "metadata": {},
   "source": [
    "# Test"
   ]
  },
  {
   "cell_type": "code",
   "execution_count": null,
   "metadata": {},
   "outputs": [
    {
     "data": {
      "text/plain": [
       "['bleu',\n",
       " 'rouge',\n",
       " 'meteor',\n",
       " 'bertscore',\n",
       " 'f1radgraph',\n",
       " 'chexbert',\n",
       " 'ratescore',\n",
       " 'green']"
      ]
     },
     "execution_count": 4,
     "metadata": {},
     "output_type": "execute_result"
    }
   ],
   "source": [
    "rrg_metric.AVAILABLE_METRICS"
   ]
  },
  {
   "cell_type": "code",
   "execution_count": 5,
   "metadata": {},
   "outputs": [],
   "source": [
    "preds = [\"no acute cardiopulmonary abnormality\",\n",
    "        \"et tube terminates 2 cm above the carina retraction by several centimeters is recommended for more optimal placement bibasilar consolidations better assessed on concurrent chest ct\"\n",
    "]\n",
    "\n",
    "gts = [\"no acute cardiopulmonary abnormality\",\n",
    "        \"endotracheal tube terminates 2 5 cm above the carina bibasilar opacities likely represent atelectasis or aspiration\",\n",
    "]"
   ]
  },
  {
   "cell_type": "code",
   "execution_count": 6,
   "metadata": {},
   "outputs": [
    {
     "name": "stdout",
     "output_type": "stream",
     "text": [
      "Progress bar not available for 'green'.\n",
      "Loading 'green' computer...\n"
     ]
    },
    {
     "data": {
      "application/vnd.jupyter.widget-view+json": {
       "model_id": "5fe090a95fde4e88b80477b892752263",
       "version_major": 2,
       "version_minor": 0
      },
      "text/plain": [
       "Loading checkpoint shards:   0%|          | 0/3 [00:00<?, ?it/s]"
      ]
     },
     "metadata": {},
     "output_type": "display_data"
    },
    {
     "name": "stdout",
     "output_type": "stream",
     "text": [
      "Computing 'green' scores...\n",
      "Processing data...making prompts\n"
     ]
    },
    {
     "data": {
      "application/vnd.jupyter.widget-view+json": {
       "model_id": "7559d6cf6f864c1182f6485dcf9c3b67",
       "version_major": 2,
       "version_minor": 0
      },
      "text/plain": [
       "Map:   0%|          | 0/2 [00:00<?, ? examples/s]"
      ]
     },
     "metadata": {},
     "output_type": "display_data"
    },
    {
     "name": "stdout",
     "output_type": "stream",
     "text": [
      "Done.\n",
      "==== Beginning Inference ====\n"
     ]
    },
    {
     "name": "stderr",
     "output_type": "stream",
     "text": [
      "1it [00:11, 11.30s/it]\n"
     ]
    },
    {
     "name": "stdout",
     "output_type": "stream",
     "text": [
      "==== End Inference ====\n",
      "Computing summary ...\n",
      "Seconds per example:  8.674238920211792\n",
      "Done.\n"
     ]
    },
    {
     "data": {
      "text/plain": [
       "{'total_results': 0.6666666666666666,\n",
       " 'per_sample_results': [1.0, 0.3333333333333333],\n",
       " 'total_time': 17.378002882003784,\n",
       " 'green_std': 0.33333333333333337,\n",
       " 'green_summary': \"\\n-------------GREEN-radllama2-7b----------------\\n [Summary]: Green average 0.6666666666666666 and standard deviation 0.33333333333333337 \\n [Clinically Significant Errors Analyses]: <accuracy>. <representative error>\\n\\n(a) False report of a finding in the candidate: 0.5. \\n  The candidate report falsely reports that the endotracheal tube terminates 2 cm above the carina and recommends retraction for optimal placement. \\n\\n(b) Missing a finding present in the reference: 1.0. \\n None \\n\\n(c) Misidentification of a finding's anatomic location/position: 0.5. \\n  The candidate report misidentifies the bibasilar opacities as consolidations. \\n\\n(d) Misassessment of the severity of a finding: 1.0. \\n None \\n\\n(e) Mentioning a comparison that isn't in the reference: 1.0. \\n None \\n\\n(f) Omitting a comparison detailing a change from a prior study: 1.0. \\n None \\n\\n----------------------------------\\n\",\n",
       " 'green_result_df':                                            reference  \\\n",
       " 0               no acute cardiopulmonary abnormality   \n",
       " 1  endotracheal tube terminates 2 5 cm above the ...   \n",
       " \n",
       "                                          predictions  \\\n",
       " 0               no acute cardiopulmonary abnormality   \n",
       " 1  et tube terminates 2 cm above the carina retra...   \n",
       " \n",
       "                                       green_analysis  green_score  \\\n",
       " 0  \\nThe candidate report is identical to the ref...     1.000000   \n",
       " 1  \\nThe candidate report has a few discrepancies...     0.333333   \n",
       " \n",
       "    (a) False report of a finding in the candidate  \\\n",
       " 0                                               0   \n",
       " 1                                               1   \n",
       " \n",
       "    (b) Missing a finding present in the reference  \\\n",
       " 0                                               0   \n",
       " 1                                               0   \n",
       " \n",
       "    (c) Misidentification of a finding's anatomic location/position  \\\n",
       " 0                                                  0                 \n",
       " 1                                                  1                 \n",
       " \n",
       "    (d) Misassessment of the severity of a finding  \\\n",
       " 0                                               0   \n",
       " 1                                               0   \n",
       " \n",
       "    (e) Mentioning a comparison that isn't in the reference  \\\n",
       " 0                                                  0         \n",
       " 1                                                  0         \n",
       " \n",
       "    (f) Omitting a comparison detailing a change from a prior study  \\\n",
       " 0                                                  0                 \n",
       " 1                                                  0                 \n",
       " \n",
       "    Matched Findings  \n",
       " 0                 1  \n",
       " 1                 1  }"
      ]
     },
     "execution_count": 6,
     "metadata": {},
     "output_type": "execute_result"
    }
   ],
   "source": [
    "# rrg_metric.compute(\"bleu\",        preds=preds, gts=gts, verbose=True, per_sample=True, cache_dir='/data1/huggingface')\n",
    "# rrg_metric.compute(\"rouge\",       preds=preds, gts=gts, verbose=True, per_sample=True, cache_dir='/data1/huggingface')\n",
    "# rrg_metric.compute(\"meteor\",      preds=preds, gts=gts, verbose=True, per_sample=True, cache_dir='/data1/huggingface')\n",
    "# rrg_metric.compute(\"bertscore\",   preds=preds, gts=gts, verbose=True, per_sample=True, cache_dir='/data1/huggingface')\n",
    "# rrg_metric.compute(\"chexbert\",    preds=preds, gts=gts, verbose=True, per_sample=True, cache_dir='/data1/huggingface')\n",
    "# rrg_metric.compute(\"f1radgraph\",  preds=preds, gts=gts, verbose=True, per_sample=True, cache_dir='/data1/huggingface')\n",
    "# rrg_metric.compute(\"ratescore\",   preds=preds, gts=gts, verbose=True, per_sample=True, cache_dir='/data1/huggingface')\n",
    "rrg_metric.compute(\"green\",      preds=preds, gts=gts, verbose=True, per_sample=True, cache_dir='/data1/huggingface')"
   ]
  }
 ],
 "metadata": {
  "kernelspec": {
   "display_name": "rrg-metric",
   "language": "python",
   "name": "rrg-metric"
  },
  "language_info": {
   "codemirror_mode": {
    "name": "ipython",
    "version": 3
   },
   "file_extension": ".py",
   "mimetype": "text/x-python",
   "name": "python",
   "nbconvert_exporter": "python",
   "pygments_lexer": "ipython3",
   "version": "3.10.16"
  }
 },
 "nbformat": 4,
 "nbformat_minor": 2
}
