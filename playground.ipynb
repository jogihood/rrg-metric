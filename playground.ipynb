{
 "cells": [
  {
   "cell_type": "markdown",
   "metadata": {},
   "source": [
    "## Imports"
   ]
  },
  {
   "cell_type": "code",
   "execution_count": 1,
   "metadata": {},
   "outputs": [],
   "source": [
    "import os\n",
    "os.environ[\"CUDA_VISIBLE_DEVICES\"] = \"5\""
   ]
  },
  {
   "cell_type": "code",
   "execution_count": 2,
   "metadata": {},
   "outputs": [],
   "source": [
    "import pandas as pd\n",
    "import numpy as np"
   ]
  },
  {
   "cell_type": "code",
   "execution_count": 3,
   "metadata": {},
   "outputs": [],
   "source": [
    "import rrg_metric"
   ]
  },
  {
   "cell_type": "markdown",
   "metadata": {},
   "source": [
    "# Test"
   ]
  },
  {
   "cell_type": "code",
   "execution_count": 4,
   "metadata": {},
   "outputs": [
    {
     "data": {
      "text/plain": [
       "['bleu', 'rouge', 'meteor', 'bertscore', 'f1radgraph', 'f1chexbert']"
      ]
     },
     "execution_count": 4,
     "metadata": {},
     "output_type": "execute_result"
    }
   ],
   "source": [
    "rrg_metric.AVAILABLE_METRICS"
   ]
  },
  {
   "cell_type": "code",
   "execution_count": 5,
   "metadata": {},
   "outputs": [],
   "source": [
    "preds = [\"no acute cardiopulmonary abnormality\",\n",
    "        \"et tube terminates 2 cm above the carina retraction by several centimeters is recommended for more optimal placement bibasilar consolidations better assessed on concurrent chest ct\"\n",
    "]\n",
    "\n",
    "gts = [\"no acute cardiopulmonary abnormality\",\n",
    "        \"endotracheal tube terminates 2 5 cm above the carina bibasilar opacities likely represent atelectasis or aspiration\",\n",
    "]"
   ]
  },
  {
   "cell_type": "code",
   "execution_count": 6,
   "metadata": {},
   "outputs": [
    {
     "name": "stdout",
     "output_type": "stream",
     "text": [
      "Progress bar not available for 'f1radgraph'.\n",
      "Loading 'f1radgraph' computer...\n",
      "Model type: radgraph-xl, Reward level: complete\n",
      "Using device: cuda:0\n",
      "Computing 'f1radgraph' scores...\n"
     ]
    },
    {
     "data": {
      "text/plain": [
       "{'total_results': np.float64(0.625),\n",
       " 'per_sample_results': [1.0, 0.25],\n",
       " 'pred_graphs': [{'text': 'no acute cardiopulmonary abnormality',\n",
       "   'entities': {'1': {'tokens': 'acute',\n",
       "     'label': 'Observation::definitely absent',\n",
       "     'start_ix': 1,\n",
       "     'end_ix': 1,\n",
       "     'relations': []},\n",
       "    '2': {'tokens': 'cardiopulmonary',\n",
       "     'label': 'Anatomy::definitely present',\n",
       "     'start_ix': 2,\n",
       "     'end_ix': 2,\n",
       "     'relations': []},\n",
       "    '3': {'tokens': 'abnormality',\n",
       "     'label': 'Observation::definitely absent',\n",
       "     'start_ix': 3,\n",
       "     'end_ix': 3,\n",
       "     'relations': [['located_at', '2']]}},\n",
       "   'data_source': None,\n",
       "   'data_split': 'inference'},\n",
       "  {'text': 'et tube terminates 2 cm above the carina retraction by several centimeters is recommended for more optimal placement bibasilar consolidations better assessed on concurrent chest ct',\n",
       "   'entities': {'1': {'tokens': 'et tube',\n",
       "     'label': 'Observation::definitely present',\n",
       "     'start_ix': 0,\n",
       "     'end_ix': 1,\n",
       "     'relations': [['located_at', '2']]},\n",
       "    '2': {'tokens': '2 cm above',\n",
       "     'label': 'Anatomy::measurement::definitely present',\n",
       "     'start_ix': 3,\n",
       "     'end_ix': 5,\n",
       "     'relations': [['modify', '3']]},\n",
       "    '3': {'tokens': 'carina',\n",
       "     'label': 'Anatomy::definitely present',\n",
       "     'start_ix': 7,\n",
       "     'end_ix': 7,\n",
       "     'relations': []},\n",
       "    '4': {'tokens': 'retraction',\n",
       "     'label': 'Observation::definitely present',\n",
       "     'start_ix': 8,\n",
       "     'end_ix': 8,\n",
       "     'relations': []},\n",
       "    '5': {'tokens': 'bibasilar',\n",
       "     'label': 'Anatomy::definitely present',\n",
       "     'start_ix': 18,\n",
       "     'end_ix': 18,\n",
       "     'relations': []},\n",
       "    '6': {'tokens': 'consolidations',\n",
       "     'label': 'Observation::definitely present',\n",
       "     'start_ix': 19,\n",
       "     'end_ix': 19,\n",
       "     'relations': [['located_at', '5']]}},\n",
       "   'data_source': None,\n",
       "   'data_split': 'inference'}],\n",
       " 'gt_graphs': [{'text': 'no acute cardiopulmonary abnormality',\n",
       "   'entities': {'1': {'tokens': 'acute',\n",
       "     'label': 'Observation::definitely absent',\n",
       "     'start_ix': 1,\n",
       "     'end_ix': 1,\n",
       "     'relations': []},\n",
       "    '2': {'tokens': 'cardiopulmonary',\n",
       "     'label': 'Anatomy::definitely present',\n",
       "     'start_ix': 2,\n",
       "     'end_ix': 2,\n",
       "     'relations': []},\n",
       "    '3': {'tokens': 'abnormality',\n",
       "     'label': 'Observation::definitely absent',\n",
       "     'start_ix': 3,\n",
       "     'end_ix': 3,\n",
       "     'relations': [['located_at', '2']]}},\n",
       "   'data_source': None,\n",
       "   'data_split': 'inference'},\n",
       "  {'text': 'endotracheal tube terminates 2 5 cm above the carina bibasilar opacities likely represent atelectasis or aspiration',\n",
       "   'entities': {'1': {'tokens': 'endotracheal',\n",
       "     'label': 'Observation::definitely present',\n",
       "     'start_ix': 0,\n",
       "     'end_ix': 0,\n",
       "     'relations': [['modify', '2']]},\n",
       "    '2': {'tokens': 'tube',\n",
       "     'label': 'Observation::definitely present',\n",
       "     'start_ix': 1,\n",
       "     'end_ix': 1,\n",
       "     'relations': [['located_at', '4']]},\n",
       "    '3': {'tokens': '2 5 cm above',\n",
       "     'label': 'Anatomy::measurement::definitely present',\n",
       "     'start_ix': 3,\n",
       "     'end_ix': 6,\n",
       "     'relations': [['modify', '4']]},\n",
       "    '4': {'tokens': 'carina',\n",
       "     'label': 'Anatomy::definitely present',\n",
       "     'start_ix': 8,\n",
       "     'end_ix': 8,\n",
       "     'relations': []},\n",
       "    '5': {'tokens': 'bibasilar',\n",
       "     'label': 'Anatomy::definitely present',\n",
       "     'start_ix': 9,\n",
       "     'end_ix': 9,\n",
       "     'relations': []},\n",
       "    '6': {'tokens': 'opacities',\n",
       "     'label': 'Observation::definitely present',\n",
       "     'start_ix': 10,\n",
       "     'end_ix': 10,\n",
       "     'relations': [['located_at', '5'],\n",
       "      ['suggestive_of', '7'],\n",
       "      ['suggestive_of', '8']]},\n",
       "    '7': {'tokens': 'atelectasis',\n",
       "     'label': 'Observation::uncertain',\n",
       "     'start_ix': 13,\n",
       "     'end_ix': 13,\n",
       "     'relations': []},\n",
       "    '8': {'tokens': 'aspiration',\n",
       "     'label': 'Observation::uncertain',\n",
       "     'start_ix': 15,\n",
       "     'end_ix': 15,\n",
       "     'relations': []}},\n",
       "   'data_source': None,\n",
       "   'data_split': 'inference'}]}"
      ]
     },
     "execution_count": 6,
     "metadata": {},
     "output_type": "execute_result"
    }
   ],
   "source": [
    "# rrg_metric.compute(\"bleu\",        preds=preds, gts=gts, verbose=True, per_sample=True)\n",
    "# rrg_metric.compute(\"rouge\",       preds=preds, gts=gts, verbose=True, per_sample=True)\n",
    "# rrg_metric.compute(\"meteor\",      preds=preds, gts=gts, verbose=True, per_sample=True)\n",
    "# rrg_metric.compute(\"bertscore\",   preds=preds, gts=gts, verbose=True, per_sample=True)\n",
    "# rrg_metric.compute(\"f1chexbert\",  preds=preds, gts=gts, verbose=True, per_sample=True)\n",
    "rrg_metric.compute(\"f1radgraph\",  preds=preds, gts=gts, verbose=True, per_sample=True)"
   ]
  }
 ],
 "metadata": {
  "kernelspec": {
   "display_name": "rrg-metric",
   "language": "python",
   "name": "rrg-metric"
  },
  "language_info": {
   "codemirror_mode": {
    "name": "ipython",
    "version": 3
   },
   "file_extension": ".py",
   "mimetype": "text/x-python",
   "name": "python",
   "nbconvert_exporter": "python",
   "pygments_lexer": "ipython3",
   "version": "3.10.16"
  }
 },
 "nbformat": 4,
 "nbformat_minor": 2
}
